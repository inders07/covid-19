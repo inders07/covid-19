{
  "nbformat": 4,
  "nbformat_minor": 0,
  "metadata": {
    "colab": {
      "name": "prob1.ipynb",
      "provenance": [],
      "collapsed_sections": [],
      "toc_visible": true
    },
    "kernelspec": {
      "name": "python3",
      "display_name": "Python 3"
    }
  },
  "cells": [
    {
      "cell_type": "code",
      "metadata": {
        "id": "wv6DANPPwIfU",
        "colab_type": "code",
        "colab": {}
      },
      "source": [
        "import pandas as pd\n",
        "import numpy as np\n",
        "from sklearn.impute import SimpleImputer\n",
        "from sklearn.preprocessing import OneHotEncoder\n",
        "from sklearn.preprocessing import StandardScaler\n",
        "from sklearn.compose import ColumnTransformer\n",
        "from sklearn.metrics import mean_squared_error\n",
        "from sklearn.model_selection import GridSearchCV\n",
        "from sklearn.metrics import make_scorer\n",
        "import xgboost as xgb"
      ],
      "execution_count": 0,
      "outputs": []
    },
    {
      "cell_type": "code",
      "metadata": {
        "id": "TSL8Of2NxK90",
        "colab_type": "code",
        "colab": {}
      },
      "source": [
        "path='drive/My Drive/'\n",
        "data_train=pd.read_excel(path+'Train_dataset.xlsx',header=0,names=np.arange(28))\n",
        "data_train=data_train.drop(labels=[0,1,3,4],axis='columns')\n",
        "data_train.columns=np.arange(24)"
      ],
      "execution_count": 0,
      "outputs": []
    },
    {
      "cell_type": "code",
      "metadata": {
        "id": "oWreoaXxzx58",
        "colab_type": "code",
        "outputId": "da2aabc9-7b7e-4520-9b9e-7ca443f80c46",
        "colab": {
          "base_uri": "https://localhost:8080/",
          "height": 442
        }
      },
      "source": [
        "data_train.dtypes"
      ],
      "execution_count": 145,
      "outputs": [
        {
          "output_type": "execute_result",
          "data": {
            "text/plain": [
              "0      object\n",
              "1      object\n",
              "2     float64\n",
              "3      object\n",
              "4      object\n",
              "5       int64\n",
              "6       int64\n",
              "7      object\n",
              "8       int64\n",
              "9       int64\n",
              "10     object\n",
              "11     object\n",
              "12    float64\n",
              "13    float64\n",
              "14    float64\n",
              "15    float64\n",
              "16    float64\n",
              "17    float64\n",
              "18      int64\n",
              "19      int64\n",
              "20    float64\n",
              "21      int64\n",
              "22    float64\n",
              "23    float64\n",
              "dtype: object"
            ]
          },
          "metadata": {
            "tags": []
          },
          "execution_count": 145
        }
      ]
    },
    {
      "cell_type": "code",
      "metadata": {
        "id": "awQlslDU88gG",
        "colab_type": "code",
        "outputId": "8a57920e-571b-43e4-fb40-7b3f72bc6c0c",
        "colab": {
          "base_uri": "https://localhost:8080/",
          "height": 255
        }
      },
      "source": [
        "data_train.head(5)"
      ],
      "execution_count": 146,
      "outputs": [
        {
          "output_type": "execute_result",
          "data": {
            "text/html": [
              "<div>\n",
              "<style scoped>\n",
              "    .dataframe tbody tr th:only-of-type {\n",
              "        vertical-align: middle;\n",
              "    }\n",
              "\n",
              "    .dataframe tbody tr th {\n",
              "        vertical-align: top;\n",
              "    }\n",
              "\n",
              "    .dataframe thead th {\n",
              "        text-align: right;\n",
              "    }\n",
              "</style>\n",
              "<table border=\"1\" class=\"dataframe\">\n",
              "  <thead>\n",
              "    <tr style=\"text-align: right;\">\n",
              "      <th></th>\n",
              "      <th>0</th>\n",
              "      <th>1</th>\n",
              "      <th>2</th>\n",
              "      <th>3</th>\n",
              "      <th>4</th>\n",
              "      <th>5</th>\n",
              "      <th>6</th>\n",
              "      <th>7</th>\n",
              "      <th>8</th>\n",
              "      <th>9</th>\n",
              "      <th>10</th>\n",
              "      <th>11</th>\n",
              "      <th>12</th>\n",
              "      <th>13</th>\n",
              "      <th>14</th>\n",
              "      <th>15</th>\n",
              "      <th>16</th>\n",
              "      <th>17</th>\n",
              "      <th>18</th>\n",
              "      <th>19</th>\n",
              "      <th>20</th>\n",
              "      <th>21</th>\n",
              "      <th>22</th>\n",
              "      <th>23</th>\n",
              "    </tr>\n",
              "  </thead>\n",
              "  <tbody>\n",
              "    <tr>\n",
              "      <th>0</th>\n",
              "      <td>Female</td>\n",
              "      <td>YES</td>\n",
              "      <td>1.0</td>\n",
              "      <td>Farmer</td>\n",
              "      <td>Public</td>\n",
              "      <td>2</td>\n",
              "      <td>0</td>\n",
              "      <td>Hypertension</td>\n",
              "      <td>68</td>\n",
              "      <td>8</td>\n",
              "      <td>&lt;400</td>\n",
              "      <td>Normal</td>\n",
              "      <td>441.0</td>\n",
              "      <td>154.0</td>\n",
              "      <td>93.0</td>\n",
              "      <td>233.0</td>\n",
              "      <td>82.0</td>\n",
              "      <td>58.0</td>\n",
              "      <td>27</td>\n",
              "      <td>7</td>\n",
              "      <td>3600000.0</td>\n",
              "      <td>1300000</td>\n",
              "      <td>2.0</td>\n",
              "      <td>49.135010</td>\n",
              "    </tr>\n",
              "    <tr>\n",
              "      <th>1</th>\n",
              "      <td>Female</td>\n",
              "      <td>YES</td>\n",
              "      <td>2.0</td>\n",
              "      <td>Farmer</td>\n",
              "      <td>Walk</td>\n",
              "      <td>2</td>\n",
              "      <td>0</td>\n",
              "      <td>Diabetes</td>\n",
              "      <td>64</td>\n",
              "      <td>15</td>\n",
              "      <td>&lt;100</td>\n",
              "      <td>Stage-02</td>\n",
              "      <td>NaN</td>\n",
              "      <td>121.0</td>\n",
              "      <td>56.0</td>\n",
              "      <td>328.0</td>\n",
              "      <td>89.0</td>\n",
              "      <td>68.0</td>\n",
              "      <td>5</td>\n",
              "      <td>6</td>\n",
              "      <td>1600000.0</td>\n",
              "      <td>400000</td>\n",
              "      <td>1.0</td>\n",
              "      <td>51.147880</td>\n",
              "    </tr>\n",
              "    <tr>\n",
              "      <th>2</th>\n",
              "      <td>Female</td>\n",
              "      <td>NO</td>\n",
              "      <td>1.0</td>\n",
              "      <td>Cleaner</td>\n",
              "      <td>Public</td>\n",
              "      <td>2</td>\n",
              "      <td>0</td>\n",
              "      <td>None</td>\n",
              "      <td>19</td>\n",
              "      <td>13</td>\n",
              "      <td>&lt;300</td>\n",
              "      <td>Elevated</td>\n",
              "      <td>416.0</td>\n",
              "      <td>124.0</td>\n",
              "      <td>137.0</td>\n",
              "      <td>213.0</td>\n",
              "      <td>77.0</td>\n",
              "      <td>43.0</td>\n",
              "      <td>40</td>\n",
              "      <td>6</td>\n",
              "      <td>3400000.0</td>\n",
              "      <td>900000</td>\n",
              "      <td>1.0</td>\n",
              "      <td>73.224000</td>\n",
              "    </tr>\n",
              "    <tr>\n",
              "      <th>3</th>\n",
              "      <td>Female</td>\n",
              "      <td>YES</td>\n",
              "      <td>1.0</td>\n",
              "      <td>Driver</td>\n",
              "      <td>Car</td>\n",
              "      <td>2</td>\n",
              "      <td>0</td>\n",
              "      <td>Coronary Heart Disease</td>\n",
              "      <td>33</td>\n",
              "      <td>9</td>\n",
              "      <td>&lt;200</td>\n",
              "      <td>Stage-01</td>\n",
              "      <td>410.0</td>\n",
              "      <td>98.0</td>\n",
              "      <td>167.0</td>\n",
              "      <td>275.0</td>\n",
              "      <td>64.0</td>\n",
              "      <td>60.0</td>\n",
              "      <td>27</td>\n",
              "      <td>7</td>\n",
              "      <td>700000.0</td>\n",
              "      <td>2300000</td>\n",
              "      <td>1.0</td>\n",
              "      <td>48.779225</td>\n",
              "    </tr>\n",
              "    <tr>\n",
              "      <th>4</th>\n",
              "      <td>Female</td>\n",
              "      <td>NO</td>\n",
              "      <td>2.0</td>\n",
              "      <td>Manufacturing</td>\n",
              "      <td>Car</td>\n",
              "      <td>2</td>\n",
              "      <td>0</td>\n",
              "      <td>Diabetes</td>\n",
              "      <td>23</td>\n",
              "      <td>7</td>\n",
              "      <td>&lt;400</td>\n",
              "      <td>Normal</td>\n",
              "      <td>390.0</td>\n",
              "      <td>21.0</td>\n",
              "      <td>153.0</td>\n",
              "      <td>331.0</td>\n",
              "      <td>71.0</td>\n",
              "      <td>64.0</td>\n",
              "      <td>32</td>\n",
              "      <td>7</td>\n",
              "      <td>3200000.0</td>\n",
              "      <td>1100000</td>\n",
              "      <td>1.0</td>\n",
              "      <td>87.868800</td>\n",
              "    </tr>\n",
              "  </tbody>\n",
              "</table>\n",
              "</div>"
            ],
            "text/plain": [
              "       0    1    2              3   ...         20       21   22         23\n",
              "0  Female  YES  1.0         Farmer  ...  3600000.0  1300000  2.0  49.135010\n",
              "1  Female  YES  2.0         Farmer  ...  1600000.0   400000  1.0  51.147880\n",
              "2  Female   NO  1.0        Cleaner  ...  3400000.0   900000  1.0  73.224000\n",
              "3  Female  YES  1.0         Driver  ...   700000.0  2300000  1.0  48.779225\n",
              "4  Female   NO  2.0  Manufacturing  ...  3200000.0  1100000  1.0  87.868800\n",
              "\n",
              "[5 rows x 24 columns]"
            ]
          },
          "metadata": {
            "tags": []
          },
          "execution_count": 146
        }
      ]
    },
    {
      "cell_type": "code",
      "metadata": {
        "id": "sjp6SvG89GNE",
        "colab_type": "code",
        "outputId": "4ccab1f1-1b89-4344-b877-f8cac34e5ef4",
        "colab": {
          "base_uri": "https://localhost:8080/",
          "height": 442
        }
      },
      "source": [
        "data_train.isnull().any()"
      ],
      "execution_count": 147,
      "outputs": [
        {
          "output_type": "execute_result",
          "data": {
            "text/plain": [
              "0     False\n",
              "1     False\n",
              "2      True\n",
              "3      True\n",
              "4      True\n",
              "5     False\n",
              "6     False\n",
              "7      True\n",
              "8     False\n",
              "9     False\n",
              "10    False\n",
              "11     True\n",
              "12     True\n",
              "13     True\n",
              "14     True\n",
              "15     True\n",
              "16     True\n",
              "17     True\n",
              "18    False\n",
              "19    False\n",
              "20     True\n",
              "21    False\n",
              "22     True\n",
              "23    False\n",
              "dtype: bool"
            ]
          },
          "metadata": {
            "tags": []
          },
          "execution_count": 147
        }
      ]
    },
    {
      "cell_type": "code",
      "metadata": {
        "id": "rtGaKksf_RMK",
        "colab_type": "code",
        "colab": {}
      },
      "source": [
        "Y_train=data_train.iloc[:,-1].values\n",
        "X_train=data_train.iloc[:,:-1].values\n",
        "\n",
        "def pre_process(X_train):\n",
        "\n",
        "  print(X_train.shape)\n",
        "\n",
        "  cols=data_train.columns\n",
        "  cols_num=data_train._get_numeric_data().columns\n",
        "  cols_cat=list(set(cols)-set(cols_num))\n",
        "  cols_num=list(set(cols)-set(cols_cat))\n",
        "  cols_num=cols_num[:-1]\n",
        "  cols=list(cols)\n",
        "\n",
        "  imputer_cat=SimpleImputer(strategy=\"most_frequent\")\n",
        "  X_train[:,cols_cat]=imputer_cat.fit_transform(X_train[:,cols_cat])\n",
        "\n",
        "  imputer_num=SimpleImputer(strategy=\"mean\")\n",
        "  X_train[:,cols_num]=imputer_num.fit_transform(X_train[:,cols_num])\n",
        "\n",
        "  print(X_train[:5,:])\n",
        "\n",
        "  ct=ColumnTransformer([('encoder',OneHotEncoder(),cols_cat)],remainder='passthrough')\n",
        "  X_train=ct.fit_transform(X_train)\n",
        "  print(X_train.shape)\n",
        "\n",
        "  X_train=X_train.astype(float)\n",
        "  sc=StandardScaler();\n",
        "  X_train=sc.fit_transform(X_train)\n",
        "\n",
        "  return X_train"
      ],
      "execution_count": 0,
      "outputs": []
    },
    {
      "cell_type": "code",
      "metadata": {
        "id": "gJOsLCceIBsS",
        "colab_type": "code",
        "colab": {}
      },
      "source": [
        "scorer = make_scorer(mean_squared_error,greater_is_better=False)"
      ],
      "execution_count": 0,
      "outputs": []
    },
    {
      "cell_type": "code",
      "metadata": {
        "id": "AIFoexLWXYw-",
        "colab_type": "code",
        "colab": {}
      },
      "source": [
        "from sklearn.ensemble import AdaBoostRegressor\n",
        "from sklearn.ensemble import GradientBoostingRegressor\n",
        "from sklearn.ensemble import RandomForestRegressor\n",
        "from sklearn.linear_model import LinearRegression\n",
        "from sklearn.linear_model import Lasso\n",
        "from sklearn.linear_model import Ridge\n",
        "from sklearn.svm import SVR"
      ],
      "execution_count": 0,
      "outputs": []
    },
    {
      "cell_type": "code",
      "metadata": {
        "id": "-zUDJPGuOvfN",
        "colab_type": "code",
        "colab": {}
      },
      "source": [
        "from sklearn.model_selection import cross_val_score\n",
        "models = [xgb.XGBRegressor(), AdaBoostRegressor(), GradientBoostingRegressor(), RandomForestRegressor(), LinearRegression(), Lasso(), Ridge(), SVR()]"
      ],
      "execution_count": 0,
      "outputs": []
    },
    {
      "cell_type": "code",
      "metadata": {
        "id": "kNhqOxLZZIhp",
        "colab_type": "code",
        "outputId": "0314183d-f076-4db4-cbc5-73d6ca533bf3",
        "colab": {
          "base_uri": "https://localhost:8080/",
          "height": 255
        }
      },
      "source": [
        "models_score = []\n",
        "for model in models:\n",
        "  score = cross_val_score(model, X_train, Y_train, scoring=scorer, cv=5)\n",
        "  models_score.append(score)\n",
        "print(models_score)"
      ],
      "execution_count": 0,
      "outputs": [
        {
          "output_type": "stream",
          "text": [
            "[08:56:00] WARNING: /workspace/src/objective/regression_obj.cu:152: reg:linear is now deprecated in favor of reg:squarederror.\n",
            "[08:56:01] WARNING: /workspace/src/objective/regression_obj.cu:152: reg:linear is now deprecated in favor of reg:squarederror.\n",
            "[08:56:02] WARNING: /workspace/src/objective/regression_obj.cu:152: reg:linear is now deprecated in favor of reg:squarederror.\n",
            "[08:56:03] WARNING: /workspace/src/objective/regression_obj.cu:152: reg:linear is now deprecated in favor of reg:squarederror.\n",
            "[08:56:04] WARNING: /workspace/src/objective/regression_obj.cu:152: reg:linear is now deprecated in favor of reg:squarederror.\n",
            "[array([-69.10411515, -72.80988885, -88.15994838, -81.07605218,\n",
            "       -80.04420178]), array([-70.8085118 , -76.94434265, -88.67253557, -83.4878719 ,\n",
            "       -83.27827821]), array([-68.69639089, -72.09983516, -87.69230534, -80.62977625,\n",
            "       -80.61269701]), array([-68.56619074, -72.72034971, -87.3072012 , -81.46475996,\n",
            "       -80.78212474]), array([-71.89964583, -77.81758656, -92.52174653, -83.04224132,\n",
            "       -85.43798038]), array([-73.83824819, -80.16311817, -98.24989593, -85.47338412,\n",
            "       -94.24753681]), array([-71.87840416, -77.9761069 , -92.63499228, -83.14781397,\n",
            "       -85.42528104]), array([-75.60504177, -80.90406919, -88.71971787, -86.75447247,\n",
            "       -84.99667854])]\n"
          ],
          "name": "stdout"
        }
      ]
    },
    {
      "cell_type": "code",
      "metadata": {
        "id": "dSzyGW0kaDX9",
        "colab_type": "code",
        "outputId": "4e1146f1-05c5-40e5-a15c-93f4067e3764",
        "colab": {
          "base_uri": "https://localhost:8080/",
          "height": 340
        }
      },
      "source": [
        "X_train = pre_process(X_train)\n",
        "model_final = RandomForestRegressor().fit(X_train, Y_train)\n",
        "print(model_final.score(X_train, Y_train))\n",
        "print(np.sqrt(mean_squared_error(Y_train,model_final.predict(X_train))))"
      ],
      "execution_count": 151,
      "outputs": [
        {
          "output_type": "stream",
          "text": [
            "(10714, 23)\n",
            "[['Female' 'YES' 1.0 'Farmer' 'Public' 2.0 0.0 'Hypertension' 68.0 8.0\n",
            "  '<400' 'Normal' 441.0 154.0 93.0 233.0 82.0 58.0 27.0 7.0 3600000.0\n",
            "  1300000.0 2.0]\n",
            " ['Female' 'YES' 2.0 'Farmer' 'Walk' 2.0 0.0 'Diabetes' 64.0 15.0 '<100'\n",
            "  'Stage-02' 278.80626125225047 121.0 56.0 328.0 89.0 68.0 5.0 6.0\n",
            "  1600000.0 400000.0 1.0]\n",
            " ['Female' 'NO' 1.0 'Cleaner' 'Public' 2.0 0.0 'None' 19.0 13.0 '<300'\n",
            "  'Elevated' 416.0 124.0 137.0 213.0 77.0 43.0 40.0 6.0 3400000.0\n",
            "  900000.0 1.0]\n",
            " ['Female' 'YES' 1.0 'Driver' 'Car' 2.0 0.0 'Coronary Heart Disease' 33.0\n",
            "  9.0 '<200' 'Stage-01' 410.0 98.0 167.0 275.0 64.0 60.0 27.0 7.0\n",
            "  700000.0 2300000.0 1.0]\n",
            " ['Female' 'NO' 2.0 'Manufacturing' 'Car' 2.0 0.0 'Diabetes' 23.0 7.0\n",
            "  '<400' 'Normal' 390.0 21.0 153.0 331.0 71.0 64.0 32.0 7.0 3200000.0\n",
            "  1100000.0 1.0]]\n",
            "(10714, 44)\n",
            "0.9053770400691024\n",
            "3.2834646313427784\n"
          ],
          "name": "stdout"
        }
      ]
    },
    {
      "cell_type": "code",
      "metadata": {
        "id": "tR6dJAz_h4Q3",
        "colab_type": "code",
        "colab": {}
      },
      "source": [
        "data_test=pd.read_excel(path+'Test_dataset.xlsx',header=0,names=np.arange(27))\n",
        "data_test=data_test.drop(labels=[0,1,3,4],axis='columns')\n",
        "data_test.columns=np.arange(23)"
      ],
      "execution_count": 0,
      "outputs": []
    },
    {
      "cell_type": "code",
      "metadata": {
        "id": "XBRrAcvYiLb0",
        "colab_type": "code",
        "outputId": "ad6ad29d-6486-435d-e9d5-f47994c8b0eb",
        "colab": {
          "base_uri": "https://localhost:8080/",
          "height": 306
        }
      },
      "source": [
        "X_test = data_test.values\n",
        "X_test = pre_process(X_test)\n",
        "y_pred = model_final.predict(X_test)"
      ],
      "execution_count": 0,
      "outputs": [
        {
          "output_type": "stream",
          "text": [
            "(14498, 23)\n",
            "[['Female' 'YES' 2.0 'Driver' 'Public' 4.0 1.0 'Diabetes' 52.0 3.0 '<200'\n",
            "  'Stage-01' 388.0 153.0 196.0 240.0 85.0 53.0 17.0 3.0 3900000.0\n",
            "  1300000.0 1.0]\n",
            " ['Male' 'YES' 2.0 'Legal' 'Walk' 4.0 1.0 'Diabetes' 53.0 11.0 '<200'\n",
            "  'Stage-01' 409.0 95.0 138.0 241.0 81.0 61.0 2.0 5.0 1800000.0 1300000.0\n",
            "  1.0]\n",
            " ['Female' 'YES' 2.0 'Sales' 'Car' 4.0 1.0 'Diabetes' 35.0 9.0 '<100'\n",
            "  'Stage-02' 440.0 40.0 166.0 236.0 88.0 47.0 24.0 3.0 5000000.0\n",
            "  2000000.0 2.0]\n",
            " ['Female' 'YES' 2.0 'Sales' 'Car' 4.0 1.0 'None' 31.0 12.0 '<300'\n",
            "  'Elevated' 206.0 78.0 83.0 211.0 87.0 52.0 13.0 6.0 3100000.0 600000.0\n",
            "  2.0]\n",
            " ['Female' 'YES' 2.0 'Business' 'Car' 4.0 1.0 'Diabetes' 51.0 6.0 '<200'\n",
            "  'Stage-01' 229.0 109.0 207.0 312.0 94.0 68.0 39.0 5.0 2300000.0\n",
            "  1500000.0 1.0]]\n",
            "(14498, 44)\n"
          ],
          "name": "stdout"
        }
      ]
    },
    {
      "cell_type": "code",
      "metadata": {
        "id": "_g8XWfGql0aI",
        "colab_type": "code",
        "outputId": "e1b08884-8e06-42e4-de14-0262f24a1675",
        "colab": {
          "base_uri": "https://localhost:8080/",
          "height": 34
        }
      },
      "source": [
        "y_pred.shape"
      ],
      "execution_count": 0,
      "outputs": [
        {
          "output_type": "execute_result",
          "data": {
            "text/plain": [
              "(14498,)"
            ]
          },
          "metadata": {
            "tags": []
          },
          "execution_count": 83
        }
      ]
    },
    {
      "cell_type": "code",
      "metadata": {
        "id": "RHAJBMFmnehJ",
        "colab_type": "code",
        "outputId": "c6c43eb5-16b9-44a9-b254-ff35da7532d3",
        "colab": {
          "base_uri": "https://localhost:8080/",
          "height": 34
        }
      },
      "source": [
        "print(max(Y_train), min(Y_train))"
      ],
      "execution_count": 0,
      "outputs": [
        {
          "output_type": "stream",
          "text": [
            "97.632 29.2896\n"
          ],
          "name": "stdout"
        }
      ]
    },
    {
      "cell_type": "code",
      "metadata": {
        "id": "_7M6d13IoG4o",
        "colab_type": "code",
        "colab": {}
      },
      "source": [
        "out_df = pd.DataFrame()\n",
        "out_df['people_ID'] = pd.read_excel(path+'Test_dataset.xlsx',header=0,names=np.arange(27))[0]\n",
        "out_df['infect_prob'] = y_pred"
      ],
      "execution_count": 0,
      "outputs": []
    },
    {
      "cell_type": "code",
      "metadata": {
        "id": "Xm9fQ0_7pUrF",
        "colab_type": "code",
        "colab": {}
      },
      "source": [
        "out_df.to_csv(path+'infect_prob_20_mar_2020.csv')"
      ],
      "execution_count": 0,
      "outputs": []
    },
    {
      "cell_type": "code",
      "metadata": {
        "id": "F3oasTzepX0m",
        "colab_type": "code",
        "outputId": "ac76d98c-752c-48e8-e90b-d958ddb67238",
        "colab": {
          "base_uri": "https://localhost:8080/",
          "height": 204
        }
      },
      "source": [
        "xls = pd.ExcelFile(path+'Train_dataset.xlsx')\n",
        "data_train_1 = pd.read_excel(xls, 'Diuresis_TS')\n",
        "data_train_1.head(5)"
      ],
      "execution_count": 153,
      "outputs": [
        {
          "output_type": "execute_result",
          "data": {
            "text/html": [
              "<div>\n",
              "<style scoped>\n",
              "    .dataframe tbody tr th:only-of-type {\n",
              "        vertical-align: middle;\n",
              "    }\n",
              "\n",
              "    .dataframe tbody tr th {\n",
              "        vertical-align: top;\n",
              "    }\n",
              "\n",
              "    .dataframe thead th {\n",
              "        text-align: right;\n",
              "    }\n",
              "</style>\n",
              "<table border=\"1\" class=\"dataframe\">\n",
              "  <thead>\n",
              "    <tr style=\"text-align: right;\">\n",
              "      <th></th>\n",
              "      <th>people_ID</th>\n",
              "      <th>2020-03-20 00:00:00</th>\n",
              "      <th>2020-03-21 00:00:00</th>\n",
              "      <th>2020-03-22 00:00:00</th>\n",
              "      <th>2020-03-23 00:00:00</th>\n",
              "      <th>2020-03-24 00:00:00</th>\n",
              "      <th>2020-03-25 00:00:00</th>\n",
              "      <th>2020-03-26 00:00:00</th>\n",
              "    </tr>\n",
              "  </thead>\n",
              "  <tbody>\n",
              "    <tr>\n",
              "      <th>0</th>\n",
              "      <td>1</td>\n",
              "      <td>441</td>\n",
              "      <td>544.2</td>\n",
              "      <td>669.64</td>\n",
              "      <td>821.368</td>\n",
              "      <td>1002.2416</td>\n",
              "      <td>1215.68992</td>\n",
              "      <td>1472.627904</td>\n",
              "    </tr>\n",
              "    <tr>\n",
              "      <th>1</th>\n",
              "      <td>2</td>\n",
              "      <td>151</td>\n",
              "      <td>197.2</td>\n",
              "      <td>253.24</td>\n",
              "      <td>321.688</td>\n",
              "      <td>399.9256</td>\n",
              "      <td>492.91072</td>\n",
              "      <td>606.892864</td>\n",
              "    </tr>\n",
              "    <tr>\n",
              "      <th>2</th>\n",
              "      <td>3</td>\n",
              "      <td>416</td>\n",
              "      <td>515.2</td>\n",
              "      <td>632.44</td>\n",
              "      <td>776.728</td>\n",
              "      <td>947.7736</td>\n",
              "      <td>1150.32832</td>\n",
              "      <td>1395.793984</td>\n",
              "    </tr>\n",
              "    <tr>\n",
              "      <th>3</th>\n",
              "      <td>4</td>\n",
              "      <td>410</td>\n",
              "      <td>506.0</td>\n",
              "      <td>621.40</td>\n",
              "      <td>761.880</td>\n",
              "      <td>928.1560</td>\n",
              "      <td>1126.78720</td>\n",
              "      <td>1368.344640</td>\n",
              "    </tr>\n",
              "    <tr>\n",
              "      <th>4</th>\n",
              "      <td>5</td>\n",
              "      <td>390</td>\n",
              "      <td>483.0</td>\n",
              "      <td>595.00</td>\n",
              "      <td>730.200</td>\n",
              "      <td>892.8400</td>\n",
              "      <td>1084.40800</td>\n",
              "      <td>1315.889600</td>\n",
              "    </tr>\n",
              "  </tbody>\n",
              "</table>\n",
              "</div>"
            ],
            "text/plain": [
              "   people_ID  2020-03-20 00:00:00  ...  2020-03-25 00:00:00  2020-03-26 00:00:00\n",
              "0          1                  441  ...           1215.68992          1472.627904\n",
              "1          2                  151  ...            492.91072           606.892864\n",
              "2          3                  416  ...           1150.32832          1395.793984\n",
              "3          4                  410  ...           1126.78720          1368.344640\n",
              "4          5                  390  ...           1084.40800          1315.889600\n",
              "\n",
              "[5 rows x 8 columns]"
            ]
          },
          "metadata": {
            "tags": []
          },
          "execution_count": 153
        }
      ]
    },
    {
      "cell_type": "code",
      "metadata": {
        "id": "8qcBIA-Up_zN",
        "colab_type": "code",
        "colab": {}
      },
      "source": [
        "data_train_1 = data_train_1.values\n",
        "sc=StandardScaler();\n",
        "train_dataset = data_train_1[:10000,1:]\n",
        "#train_dataset=sc.fit_transform(train_dataset)\n",
        "val_dataset = data_train_1[10000:,1:]\n",
        "#val_dataset=sc.fit_transform(val_dataset)"
      ],
      "execution_count": 0,
      "outputs": []
    },
    {
      "cell_type": "code",
      "metadata": {
        "id": "HbB09F7Jz81U",
        "colab_type": "code",
        "outputId": "d8912f7b-f298-4975-a75e-188a63c6991e",
        "colab": {
          "base_uri": "https://localhost:8080/",
          "height": 204
        }
      },
      "source": [
        "print(train_dataset.shape, val_dataset.shape)\n",
        "print(train_dataset[:5,:])"
      ],
      "execution_count": 155,
      "outputs": [
        {
          "output_type": "stream",
          "text": [
            "(10000, 7) (714, 7)\n",
            "[[ 441.        544.2       669.64      821.368    1002.2416   1215.68992\n",
            "  1472.627904]\n",
            " [ 151.        197.2       253.24      321.688     399.9256    492.91072\n",
            "   606.892864]\n",
            " [ 416.        515.2       632.44      776.728     947.7736   1150.32832\n",
            "  1395.793984]\n",
            " [ 410.        506.        621.4       761.88      928.156    1126.7872\n",
            "  1368.34464 ]\n",
            " [ 390.        483.        595.        730.2       892.84     1084.408\n",
            "  1315.8896  ]]\n"
          ],
          "name": "stdout"
        }
      ]
    },
    {
      "cell_type": "code",
      "metadata": {
        "id": "bTYC3XUApVk9",
        "colab_type": "code",
        "colab": {}
      },
      "source": [
        "X_train1 = np.reshape(train_dataset[:,:6], (10000,6,1))\n",
        "Y_train1 = train_dataset[:,6]\n",
        "X_val1 = np.reshape(val_dataset[:,:6], (714,6,1))\n",
        "Y_val1 = val_dataset[:,6]"
      ],
      "execution_count": 0,
      "outputs": []
    },
    {
      "cell_type": "code",
      "metadata": {
        "id": "l4E3KqLRqM6s",
        "colab_type": "code",
        "colab": {}
      },
      "source": [
        "try:\n",
        "  # %tensorflow_version only exists in Colab.\n",
        "  %tensorflow_version 2.x\n",
        "except Exception:\n",
        "  pass\n",
        "import tensorflow as tf\n",
        "\n",
        "BATCH_SIZE = 16\n",
        "BUFFER_SIZE = 10000\n",
        "\n",
        "train_univariate = tf.data.Dataset.from_tensor_slices((X_train1, Y_train1))\n",
        "train_univariate = train_univariate.cache().shuffle(BUFFER_SIZE).batch(BATCH_SIZE).repeat()\n",
        "\n",
        "val_univariate = tf.data.Dataset.from_tensor_slices((X_val1, Y_val1))\n",
        "val_univariate = val_univariate.batch(BATCH_SIZE).repeat()\n"
      ],
      "execution_count": 0,
      "outputs": []
    },
    {
      "cell_type": "code",
      "metadata": {
        "id": "ptp7X8ZXpu-v",
        "colab_type": "code",
        "outputId": "43514fe8-5f25-4940-d876-d268c64e18c7",
        "colab": {
          "base_uri": "https://localhost:8080/",
          "height": 34
        }
      },
      "source": [
        "train_univariate"
      ],
      "execution_count": 158,
      "outputs": [
        {
          "output_type": "execute_result",
          "data": {
            "text/plain": [
              "<RepeatDataset shapes: ((None, 6, 1), (None,)), types: (tf.float64, tf.float64)>"
            ]
          },
          "metadata": {
            "tags": []
          },
          "execution_count": 158
        }
      ]
    },
    {
      "cell_type": "code",
      "metadata": {
        "id": "3iRRP8BYq0Ju",
        "colab_type": "code",
        "colab": {}
      },
      "source": [
        "simple_lstm_model = tf.keras.models.Sequential([\n",
        "    tf.keras.layers.LSTM(units=64,return_sequences = True, input_shape = X_train.shape[-2:]),\n",
        "    tf.keras.layers.Dropout(0.15), \n",
        "    tf.keras.layers.LSTM(units=32,return_sequences=True),\n",
        "    tf.keras.layers.LSTM(units=32),\n",
        "    tf.keras.layers.Dense(1)\n",
        "])\n",
        "\n",
        "simple_lstm_model.compile(optimizer='adam', loss='mae')"
      ],
      "execution_count": 0,
      "outputs": []
    },
    {
      "cell_type": "code",
      "metadata": {
        "id": "e5Za3am2rJiJ",
        "colab_type": "code",
        "outputId": "98318e89-ab6b-4732-c0aa-fe3ff1a1ce6f",
        "colab": {
          "base_uri": "https://localhost:8080/",
          "height": 1000
        }
      },
      "source": [
        "EVALUATION_INTERVAL = 200\n",
        "EPOCHS = 200\n",
        "\n",
        "simple_lstm_model.fit(train_univariate, epochs=EPOCHS,\n",
        "                      steps_per_epoch=EVALUATION_INTERVAL,\n",
        "                      validation_data=val_univariate, validation_steps=50)"
      ],
      "execution_count": 142,
      "outputs": [
        {
          "output_type": "stream",
          "text": [
            "Train for 200 steps, validate for 50 steps\n",
            "Epoch 1/200\n",
            "200/200 [==============================] - 3s 13ms/step - loss: 257.8794 - val_loss: 262.0586\n",
            "Epoch 2/200\n",
            "200/200 [==============================] - 3s 13ms/step - loss: 250.7688 - val_loss: 262.0369\n",
            "Epoch 3/200\n",
            "200/200 [==============================] - 3s 14ms/step - loss: 247.6451 - val_loss: 262.0491\n",
            "Epoch 4/200\n",
            "200/200 [==============================] - 3s 13ms/step - loss: 254.0809 - val_loss: 262.0603\n",
            "Epoch 5/200\n",
            "200/200 [==============================] - 3s 13ms/step - loss: 253.2633 - val_loss: 262.0570\n",
            "Epoch 6/200\n",
            "200/200 [==============================] - 3s 13ms/step - loss: 248.9033 - val_loss: 262.0229\n",
            "Epoch 7/200\n",
            "200/200 [==============================] - 3s 14ms/step - loss: 255.2524 - val_loss: 262.0299\n",
            "Epoch 8/200\n",
            "200/200 [==============================] - 3s 14ms/step - loss: 252.1823 - val_loss: 262.0361\n",
            "Epoch 9/200\n",
            "200/200 [==============================] - 3s 14ms/step - loss: 253.7493 - val_loss: 262.0118\n",
            "Epoch 10/200\n",
            "200/200 [==============================] - 3s 14ms/step - loss: 250.0661 - val_loss: 262.0011\n",
            "Epoch 11/200\n",
            "200/200 [==============================] - 3s 13ms/step - loss: 252.0516 - val_loss: 261.9871\n",
            "Epoch 12/200\n",
            "200/200 [==============================] - 3s 14ms/step - loss: 251.7514 - val_loss: 262.0062\n",
            "Epoch 13/200\n",
            "200/200 [==============================] - 3s 14ms/step - loss: 252.4498 - val_loss: 261.9864\n",
            "Epoch 14/200\n",
            "200/200 [==============================] - 3s 14ms/step - loss: 256.8676 - val_loss: 261.9895\n",
            "Epoch 15/200\n",
            "200/200 [==============================] - 3s 15ms/step - loss: 253.4667 - val_loss: 261.9744\n",
            "Epoch 16/200\n",
            "200/200 [==============================] - 3s 14ms/step - loss: 249.6517 - val_loss: 261.9737\n",
            "Epoch 17/200\n",
            "200/200 [==============================] - 3s 14ms/step - loss: 252.8020 - val_loss: 261.9537\n",
            "Epoch 18/200\n",
            "200/200 [==============================] - 3s 14ms/step - loss: 254.8300 - val_loss: 261.9597\n",
            "Epoch 19/200\n",
            "200/200 [==============================] - 3s 14ms/step - loss: 250.1246 - val_loss: 261.9652\n",
            "Epoch 20/200\n",
            "200/200 [==============================] - 3s 13ms/step - loss: 248.8497 - val_loss: 261.9703\n",
            "Epoch 21/200\n",
            "200/200 [==============================] - 3s 13ms/step - loss: 253.8291 - val_loss: 261.9757\n",
            "Epoch 22/200\n",
            "200/200 [==============================] - 3s 13ms/step - loss: 252.8625 - val_loss: 261.9617\n",
            "Epoch 23/200\n",
            "200/200 [==============================] - 3s 13ms/step - loss: 254.9300 - val_loss: 261.9739\n",
            "Epoch 24/200\n",
            "200/200 [==============================] - 3s 14ms/step - loss: 250.6359 - val_loss: 261.9610\n",
            "Epoch 25/200\n",
            "200/200 [==============================] - 3s 13ms/step - loss: 234.5854 - val_loss: 162.4302\n",
            "Epoch 26/200\n",
            "200/200 [==============================] - 3s 13ms/step - loss: 153.9421 - val_loss: 171.9392\n",
            "Epoch 27/200\n",
            "200/200 [==============================] - 3s 13ms/step - loss: 146.7901 - val_loss: 133.3970\n",
            "Epoch 28/200\n",
            "200/200 [==============================] - 3s 13ms/step - loss: 136.1383 - val_loss: 149.8088\n",
            "Epoch 29/200\n",
            "200/200 [==============================] - 3s 13ms/step - loss: 133.4963 - val_loss: 127.1863\n",
            "Epoch 30/200\n",
            "200/200 [==============================] - 3s 13ms/step - loss: 127.1914 - val_loss: 125.9688\n",
            "Epoch 31/200\n",
            "200/200 [==============================] - 3s 13ms/step - loss: 123.2821 - val_loss: 128.5283\n",
            "Epoch 32/200\n",
            "200/200 [==============================] - 3s 13ms/step - loss: 119.4685 - val_loss: 124.0932\n",
            "Epoch 33/200\n",
            "200/200 [==============================] - 3s 13ms/step - loss: 114.2030 - val_loss: 128.1118\n",
            "Epoch 34/200\n",
            "200/200 [==============================] - 3s 13ms/step - loss: 114.5562 - val_loss: 111.5600\n",
            "Epoch 35/200\n",
            "200/200 [==============================] - 3s 13ms/step - loss: 110.3469 - val_loss: 119.4578\n",
            "Epoch 36/200\n",
            "200/200 [==============================] - 3s 13ms/step - loss: 108.8099 - val_loss: 117.6494\n",
            "Epoch 37/200\n",
            "200/200 [==============================] - 3s 13ms/step - loss: 103.7883 - val_loss: 104.2079\n",
            "Epoch 38/200\n",
            "200/200 [==============================] - 3s 13ms/step - loss: 101.2186 - val_loss: 100.8306\n",
            "Epoch 39/200\n",
            "200/200 [==============================] - 3s 13ms/step - loss: 99.4923 - val_loss: 104.3022\n",
            "Epoch 40/200\n",
            "200/200 [==============================] - 3s 13ms/step - loss: 99.1082 - val_loss: 103.8325\n",
            "Epoch 41/200\n",
            "200/200 [==============================] - 3s 13ms/step - loss: 99.0876 - val_loss: 109.0554\n",
            "Epoch 42/200\n",
            "200/200 [==============================] - 3s 13ms/step - loss: 91.9335 - val_loss: 97.3909\n",
            "Epoch 43/200\n",
            "200/200 [==============================] - 3s 13ms/step - loss: 93.1438 - val_loss: 92.3847\n",
            "Epoch 44/200\n",
            "200/200 [==============================] - 3s 13ms/step - loss: 84.0653 - val_loss: 93.6864\n",
            "Epoch 45/200\n",
            "200/200 [==============================] - 3s 14ms/step - loss: 84.1065 - val_loss: 88.6724\n",
            "Epoch 46/200\n",
            "200/200 [==============================] - 3s 14ms/step - loss: 85.2184 - val_loss: 101.9875\n",
            "Epoch 47/200\n",
            "200/200 [==============================] - 3s 13ms/step - loss: 88.6229 - val_loss: 87.0107\n",
            "Epoch 48/200\n",
            "200/200 [==============================] - 3s 13ms/step - loss: 81.0117 - val_loss: 86.5102\n",
            "Epoch 49/200\n",
            "200/200 [==============================] - 3s 13ms/step - loss: 81.1081 - val_loss: 87.3053\n",
            "Epoch 50/200\n",
            "200/200 [==============================] - 3s 13ms/step - loss: 78.2426 - val_loss: 84.7862\n",
            "Epoch 51/200\n",
            "200/200 [==============================] - 3s 13ms/step - loss: 73.8804 - val_loss: 87.4401\n",
            "Epoch 52/200\n",
            "200/200 [==============================] - 3s 13ms/step - loss: 76.5197 - val_loss: 79.7929\n",
            "Epoch 53/200\n",
            "200/200 [==============================] - 3s 13ms/step - loss: 74.2477 - val_loss: 81.7573\n",
            "Epoch 54/200\n",
            "200/200 [==============================] - 3s 13ms/step - loss: 72.7306 - val_loss: 78.5538\n",
            "Epoch 55/200\n",
            "200/200 [==============================] - 3s 13ms/step - loss: 71.0249 - val_loss: 72.7550\n",
            "Epoch 56/200\n",
            "200/200 [==============================] - 3s 13ms/step - loss: 69.1946 - val_loss: 69.6374\n",
            "Epoch 57/200\n",
            "200/200 [==============================] - 3s 13ms/step - loss: 65.5745 - val_loss: 69.9809\n",
            "Epoch 58/200\n",
            "200/200 [==============================] - 3s 13ms/step - loss: 67.0396 - val_loss: 67.7662\n",
            "Epoch 59/200\n",
            "200/200 [==============================] - 3s 13ms/step - loss: 63.7163 - val_loss: 64.9292\n",
            "Epoch 60/200\n",
            "200/200 [==============================] - 3s 13ms/step - loss: 65.3620 - val_loss: 65.7299\n",
            "Epoch 61/200\n",
            "200/200 [==============================] - 3s 13ms/step - loss: 63.0773 - val_loss: 63.1443\n",
            "Epoch 62/200\n",
            "200/200 [==============================] - 3s 13ms/step - loss: 59.1444 - val_loss: 66.8716\n",
            "Epoch 63/200\n",
            "200/200 [==============================] - 3s 13ms/step - loss: 58.1435 - val_loss: 60.7476\n",
            "Epoch 64/200\n",
            "200/200 [==============================] - 3s 13ms/step - loss: 58.2571 - val_loss: 58.9274\n",
            "Epoch 65/200\n",
            "200/200 [==============================] - 3s 13ms/step - loss: 57.9508 - val_loss: 60.3921\n",
            "Epoch 66/200\n",
            "200/200 [==============================] - 3s 13ms/step - loss: 53.5095 - val_loss: 58.2458\n",
            "Epoch 67/200\n",
            "200/200 [==============================] - 3s 13ms/step - loss: 54.7102 - val_loss: 57.5465\n",
            "Epoch 68/200\n",
            "200/200 [==============================] - 3s 13ms/step - loss: 52.8986 - val_loss: 67.0446\n",
            "Epoch 69/200\n",
            "200/200 [==============================] - 3s 14ms/step - loss: 52.8998 - val_loss: 61.4710\n",
            "Epoch 70/200\n",
            "200/200 [==============================] - 3s 14ms/step - loss: 51.8811 - val_loss: 64.4238\n",
            "Epoch 71/200\n",
            "200/200 [==============================] - 3s 14ms/step - loss: 52.3007 - val_loss: 55.6390\n",
            "Epoch 72/200\n",
            "200/200 [==============================] - 3s 14ms/step - loss: 50.1335 - val_loss: 58.1888\n",
            "Epoch 73/200\n",
            "200/200 [==============================] - 3s 14ms/step - loss: 48.5875 - val_loss: 64.8178\n",
            "Epoch 74/200\n",
            "200/200 [==============================] - 3s 13ms/step - loss: 45.4012 - val_loss: 52.1065\n",
            "Epoch 75/200\n",
            "200/200 [==============================] - 2s 12ms/step - loss: 45.5460 - val_loss: 50.6786\n",
            "Epoch 76/200\n",
            "200/200 [==============================] - 3s 13ms/step - loss: 44.2424 - val_loss: 52.9809\n",
            "Epoch 77/200\n",
            "200/200 [==============================] - 3s 13ms/step - loss: 43.3092 - val_loss: 45.1519\n",
            "Epoch 78/200\n",
            "200/200 [==============================] - 3s 13ms/step - loss: 44.2955 - val_loss: 46.4415\n",
            "Epoch 79/200\n",
            "200/200 [==============================] - 2s 12ms/step - loss: 42.3818 - val_loss: 50.7112\n",
            "Epoch 80/200\n",
            "200/200 [==============================] - 3s 13ms/step - loss: 42.8186 - val_loss: 62.2164\n",
            "Epoch 81/200\n",
            "200/200 [==============================] - 3s 13ms/step - loss: 39.8888 - val_loss: 48.3289\n",
            "Epoch 82/200\n",
            "200/200 [==============================] - 3s 13ms/step - loss: 41.0654 - val_loss: 48.3866\n",
            "Epoch 83/200\n",
            "200/200 [==============================] - 3s 13ms/step - loss: 37.7818 - val_loss: 40.4516\n",
            "Epoch 84/200\n",
            "200/200 [==============================] - 3s 13ms/step - loss: 37.7632 - val_loss: 47.2195\n",
            "Epoch 85/200\n",
            "200/200 [==============================] - 3s 13ms/step - loss: 37.5512 - val_loss: 37.6990\n",
            "Epoch 86/200\n",
            "200/200 [==============================] - 3s 13ms/step - loss: 36.9408 - val_loss: 40.1854\n",
            "Epoch 87/200\n",
            "200/200 [==============================] - 3s 13ms/step - loss: 35.2002 - val_loss: 36.8059\n",
            "Epoch 88/200\n",
            "200/200 [==============================] - 3s 13ms/step - loss: 34.9513 - val_loss: 36.3104\n",
            "Epoch 89/200\n",
            "200/200 [==============================] - 3s 13ms/step - loss: 34.7445 - val_loss: 44.8622\n",
            "Epoch 90/200\n",
            "200/200 [==============================] - 3s 13ms/step - loss: 34.0589 - val_loss: 42.6829\n",
            "Epoch 91/200\n",
            "200/200 [==============================] - 3s 13ms/step - loss: 32.8873 - val_loss: 43.8623\n",
            "Epoch 92/200\n",
            "200/200 [==============================] - 3s 13ms/step - loss: 31.3155 - val_loss: 39.6826\n",
            "Epoch 93/200\n",
            "200/200 [==============================] - 3s 13ms/step - loss: 31.4087 - val_loss: 38.5175\n",
            "Epoch 94/200\n",
            "200/200 [==============================] - 3s 13ms/step - loss: 33.4931 - val_loss: 31.0202\n",
            "Epoch 95/200\n",
            "200/200 [==============================] - 3s 14ms/step - loss: 30.5673 - val_loss: 40.7459\n",
            "Epoch 96/200\n",
            "200/200 [==============================] - 3s 14ms/step - loss: 31.5981 - val_loss: 49.5115\n",
            "Epoch 97/200\n",
            "200/200 [==============================] - 3s 13ms/step - loss: 29.9592 - val_loss: 38.6548\n",
            "Epoch 98/200\n",
            "200/200 [==============================] - 3s 13ms/step - loss: 29.9482 - val_loss: 30.4545\n",
            "Epoch 99/200\n",
            "200/200 [==============================] - 3s 13ms/step - loss: 28.7399 - val_loss: 38.8227\n",
            "Epoch 100/200\n",
            "200/200 [==============================] - 3s 13ms/step - loss: 27.5372 - val_loss: 30.5234\n",
            "Epoch 101/200\n",
            "200/200 [==============================] - 3s 14ms/step - loss: 28.7408 - val_loss: 26.7585\n",
            "Epoch 102/200\n",
            "200/200 [==============================] - 3s 13ms/step - loss: 26.3477 - val_loss: 39.7931\n",
            "Epoch 103/200\n",
            "200/200 [==============================] - 3s 13ms/step - loss: 25.8181 - val_loss: 39.0395\n",
            "Epoch 104/200\n",
            "200/200 [==============================] - 3s 13ms/step - loss: 26.3619 - val_loss: 43.0634\n",
            "Epoch 105/200\n",
            "200/200 [==============================] - 3s 13ms/step - loss: 26.4166 - val_loss: 36.6468\n",
            "Epoch 106/200\n",
            "200/200 [==============================] - 3s 13ms/step - loss: 25.8410 - val_loss: 29.8112\n",
            "Epoch 107/200\n",
            "200/200 [==============================] - 3s 13ms/step - loss: 24.5077 - val_loss: 28.0053\n",
            "Epoch 108/200\n",
            "200/200 [==============================] - 2s 12ms/step - loss: 25.9951 - val_loss: 24.5606\n",
            "Epoch 109/200\n",
            "200/200 [==============================] - 2s 12ms/step - loss: 23.2369 - val_loss: 23.4041\n",
            "Epoch 110/200\n",
            "200/200 [==============================] - 2s 12ms/step - loss: 24.0076 - val_loss: 24.5215\n",
            "Epoch 111/200\n",
            "200/200 [==============================] - 2s 12ms/step - loss: 22.3719 - val_loss: 29.3415\n",
            "Epoch 112/200\n",
            "200/200 [==============================] - 2s 12ms/step - loss: 23.2174 - val_loss: 32.6919\n",
            "Epoch 113/200\n",
            "200/200 [==============================] - 2s 12ms/step - loss: 22.8149 - val_loss: 27.1188\n",
            "Epoch 114/200\n",
            "200/200 [==============================] - 2s 12ms/step - loss: 22.3959 - val_loss: 31.1316\n",
            "Epoch 115/200\n",
            "200/200 [==============================] - 3s 13ms/step - loss: 23.4250 - val_loss: 24.6150\n",
            "Epoch 116/200\n",
            "200/200 [==============================] - 2s 12ms/step - loss: 21.0737 - val_loss: 21.2570\n",
            "Epoch 117/200\n",
            "200/200 [==============================] - 2s 12ms/step - loss: 20.3440 - val_loss: 26.5452\n",
            "Epoch 118/200\n",
            "200/200 [==============================] - 2s 12ms/step - loss: 21.2809 - val_loss: 25.9776\n",
            "Epoch 119/200\n",
            "200/200 [==============================] - 2s 12ms/step - loss: 20.3723 - val_loss: 31.2068\n",
            "Epoch 120/200\n",
            "200/200 [==============================] - 3s 13ms/step - loss: 20.1826 - val_loss: 34.4419\n",
            "Epoch 121/200\n",
            "200/200 [==============================] - 2s 12ms/step - loss: 19.7705 - val_loss: 21.4666\n",
            "Epoch 122/200\n",
            "200/200 [==============================] - 2s 12ms/step - loss: 19.3079 - val_loss: 23.7622\n",
            "Epoch 123/200\n",
            "200/200 [==============================] - 3s 13ms/step - loss: 19.8366 - val_loss: 32.0448\n",
            "Epoch 124/200\n",
            "200/200 [==============================] - 3s 13ms/step - loss: 18.5346 - val_loss: 23.1667\n",
            "Epoch 125/200\n",
            "200/200 [==============================] - 3s 13ms/step - loss: 17.2358 - val_loss: 30.6778\n",
            "Epoch 126/200\n",
            "200/200 [==============================] - 3s 13ms/step - loss: 18.9081 - val_loss: 21.3729\n",
            "Epoch 127/200\n",
            "200/200 [==============================] - 2s 12ms/step - loss: 17.9459 - val_loss: 20.0065\n",
            "Epoch 128/200\n",
            "200/200 [==============================] - 2s 12ms/step - loss: 17.1646 - val_loss: 19.6204\n",
            "Epoch 129/200\n",
            "200/200 [==============================] - 3s 13ms/step - loss: 16.8301 - val_loss: 17.8709\n",
            "Epoch 130/200\n",
            "200/200 [==============================] - 2s 12ms/step - loss: 17.0268 - val_loss: 18.7009\n",
            "Epoch 131/200\n",
            "200/200 [==============================] - 2s 12ms/step - loss: 16.1204 - val_loss: 20.5772\n",
            "Epoch 132/200\n",
            "200/200 [==============================] - 2s 12ms/step - loss: 17.8886 - val_loss: 17.8427\n",
            "Epoch 133/200\n",
            "200/200 [==============================] - 3s 13ms/step - loss: 16.6034 - val_loss: 17.8110\n",
            "Epoch 134/200\n",
            "200/200 [==============================] - 3s 13ms/step - loss: 16.9865 - val_loss: 18.6528\n",
            "Epoch 135/200\n",
            "200/200 [==============================] - 3s 13ms/step - loss: 15.5917 - val_loss: 20.5720\n",
            "Epoch 136/200\n",
            "200/200 [==============================] - 3s 13ms/step - loss: 14.9056 - val_loss: 16.7165\n",
            "Epoch 137/200\n",
            "200/200 [==============================] - 3s 13ms/step - loss: 16.0337 - val_loss: 26.5041\n",
            "Epoch 138/200\n",
            "200/200 [==============================] - 3s 13ms/step - loss: 14.5242 - val_loss: 18.0470\n",
            "Epoch 139/200\n",
            "200/200 [==============================] - 3s 13ms/step - loss: 15.5343 - val_loss: 17.7993\n",
            "Epoch 140/200\n",
            "200/200 [==============================] - 3s 13ms/step - loss: 14.9306 - val_loss: 19.4838\n",
            "Epoch 141/200\n",
            "200/200 [==============================] - 3s 13ms/step - loss: 15.9689 - val_loss: 16.4617\n",
            "Epoch 142/200\n",
            "200/200 [==============================] - 3s 13ms/step - loss: 15.9365 - val_loss: 21.2650\n",
            "Epoch 143/200\n",
            "200/200 [==============================] - 3s 13ms/step - loss: 14.5883 - val_loss: 17.5978\n",
            "Epoch 144/200\n",
            "200/200 [==============================] - 3s 13ms/step - loss: 14.8806 - val_loss: 24.0092\n",
            "Epoch 145/200\n",
            "200/200 [==============================] - 3s 13ms/step - loss: 14.0238 - val_loss: 12.1487\n",
            "Epoch 146/200\n",
            "200/200 [==============================] - 3s 13ms/step - loss: 14.6583 - val_loss: 15.6873\n",
            "Epoch 147/200\n",
            "200/200 [==============================] - 3s 13ms/step - loss: 14.4392 - val_loss: 19.7964\n",
            "Epoch 148/200\n",
            "200/200 [==============================] - 3s 13ms/step - loss: 13.7166 - val_loss: 13.4495\n",
            "Epoch 149/200\n",
            "200/200 [==============================] - 3s 13ms/step - loss: 13.6212 - val_loss: 24.0483\n",
            "Epoch 150/200\n",
            "200/200 [==============================] - 3s 14ms/step - loss: 13.6422 - val_loss: 20.8437\n",
            "Epoch 151/200\n",
            "200/200 [==============================] - 3s 13ms/step - loss: 12.5123 - val_loss: 16.6248\n",
            "Epoch 152/200\n",
            "200/200 [==============================] - 3s 13ms/step - loss: 13.1880 - val_loss: 15.7036\n",
            "Epoch 153/200\n",
            "200/200 [==============================] - 3s 14ms/step - loss: 13.1830 - val_loss: 14.1818\n",
            "Epoch 154/200\n",
            "200/200 [==============================] - 3s 14ms/step - loss: 12.7306 - val_loss: 12.5957\n",
            "Epoch 155/200\n",
            "200/200 [==============================] - 3s 13ms/step - loss: 12.3268 - val_loss: 11.2412\n",
            "Epoch 156/200\n",
            "200/200 [==============================] - 3s 13ms/step - loss: 12.1810 - val_loss: 24.5787\n",
            "Epoch 157/200\n",
            "200/200 [==============================] - 3s 13ms/step - loss: 12.5343 - val_loss: 15.5266\n",
            "Epoch 158/200\n",
            "200/200 [==============================] - 3s 13ms/step - loss: 12.4367 - val_loss: 13.5838\n",
            "Epoch 159/200\n",
            "200/200 [==============================] - 3s 13ms/step - loss: 12.4041 - val_loss: 15.4289\n",
            "Epoch 160/200\n",
            "200/200 [==============================] - 3s 13ms/step - loss: 12.8546 - val_loss: 15.7585\n",
            "Epoch 161/200\n",
            "200/200 [==============================] - 3s 13ms/step - loss: 11.1921 - val_loss: 13.5857\n",
            "Epoch 162/200\n",
            "200/200 [==============================] - 3s 13ms/step - loss: 12.3485 - val_loss: 17.3648\n",
            "Epoch 163/200\n",
            "200/200 [==============================] - 3s 14ms/step - loss: 11.3237 - val_loss: 9.5304\n",
            "Epoch 164/200\n",
            "200/200 [==============================] - 3s 13ms/step - loss: 10.2901 - val_loss: 14.0768\n",
            "Epoch 165/200\n",
            "200/200 [==============================] - 3s 13ms/step - loss: 11.7738 - val_loss: 17.1825\n",
            "Epoch 166/200\n",
            "200/200 [==============================] - 3s 13ms/step - loss: 11.2839 - val_loss: 9.9128\n",
            "Epoch 167/200\n",
            "200/200 [==============================] - 3s 13ms/step - loss: 10.5987 - val_loss: 14.1887\n",
            "Epoch 168/200\n",
            "200/200 [==============================] - 3s 13ms/step - loss: 11.2298 - val_loss: 10.6014\n",
            "Epoch 169/200\n",
            "200/200 [==============================] - 3s 13ms/step - loss: 10.9142 - val_loss: 13.4778\n",
            "Epoch 170/200\n",
            "200/200 [==============================] - 2s 12ms/step - loss: 11.1167 - val_loss: 17.2549\n",
            "Epoch 171/200\n",
            "200/200 [==============================] - 2s 12ms/step - loss: 11.8787 - val_loss: 18.7585\n",
            "Epoch 172/200\n",
            "200/200 [==============================] - 2s 12ms/step - loss: 11.4064 - val_loss: 13.1083\n",
            "Epoch 173/200\n",
            "200/200 [==============================] - 3s 13ms/step - loss: 11.8187 - val_loss: 23.0680\n",
            "Epoch 174/200\n",
            "200/200 [==============================] - 3s 13ms/step - loss: 9.8087 - val_loss: 11.3977\n",
            "Epoch 175/200\n",
            "200/200 [==============================] - 3s 13ms/step - loss: 10.6983 - val_loss: 21.5755\n",
            "Epoch 176/200\n",
            "200/200 [==============================] - 3s 13ms/step - loss: 10.7954 - val_loss: 14.8635\n",
            "Epoch 177/200\n",
            "200/200 [==============================] - 3s 13ms/step - loss: 9.5431 - val_loss: 19.6062\n",
            "Epoch 178/200\n",
            "200/200 [==============================] - 3s 13ms/step - loss: 9.9568 - val_loss: 18.7364\n",
            "Epoch 179/200\n",
            "200/200 [==============================] - 3s 13ms/step - loss: 10.8565 - val_loss: 30.9237\n",
            "Epoch 180/200\n",
            "200/200 [==============================] - 3s 13ms/step - loss: 11.6144 - val_loss: 12.3942\n",
            "Epoch 181/200\n",
            "200/200 [==============================] - 3s 13ms/step - loss: 8.9311 - val_loss: 16.7958\n",
            "Epoch 182/200\n",
            "200/200 [==============================] - 3s 13ms/step - loss: 10.3837 - val_loss: 15.7709\n",
            "Epoch 183/200\n",
            "200/200 [==============================] - 3s 13ms/step - loss: 10.1398 - val_loss: 17.3543\n",
            "Epoch 184/200\n",
            "200/200 [==============================] - 3s 13ms/step - loss: 9.7226 - val_loss: 12.2499\n",
            "Epoch 185/200\n",
            "200/200 [==============================] - 3s 13ms/step - loss: 9.5233 - val_loss: 15.6322\n",
            "Epoch 186/200\n",
            "200/200 [==============================] - 3s 13ms/step - loss: 9.8125 - val_loss: 11.3294\n",
            "Epoch 187/200\n",
            "200/200 [==============================] - 3s 13ms/step - loss: 9.7717 - val_loss: 11.4351\n",
            "Epoch 188/200\n",
            "200/200 [==============================] - 3s 13ms/step - loss: 9.8089 - val_loss: 12.5412\n",
            "Epoch 189/200\n",
            "200/200 [==============================] - 3s 14ms/step - loss: 9.5006 - val_loss: 7.1700\n",
            "Epoch 190/200\n",
            "200/200 [==============================] - 3s 14ms/step - loss: 9.7070 - val_loss: 11.4849\n",
            "Epoch 191/200\n",
            "200/200 [==============================] - 3s 14ms/step - loss: 9.7136 - val_loss: 16.4188\n",
            "Epoch 192/200\n",
            "200/200 [==============================] - 3s 14ms/step - loss: 9.6475 - val_loss: 22.2874\n",
            "Epoch 193/200\n",
            "200/200 [==============================] - 3s 13ms/step - loss: 9.4799 - val_loss: 12.5925\n",
            "Epoch 194/200\n",
            "200/200 [==============================] - 3s 13ms/step - loss: 10.0759 - val_loss: 19.9156\n",
            "Epoch 195/200\n",
            "200/200 [==============================] - 3s 13ms/step - loss: 8.8740 - val_loss: 13.1041\n",
            "Epoch 196/200\n",
            "200/200 [==============================] - 3s 13ms/step - loss: 9.8540 - val_loss: 13.1729\n",
            "Epoch 197/200\n",
            "200/200 [==============================] - 3s 13ms/step - loss: 8.6056 - val_loss: 14.6879\n",
            "Epoch 198/200\n",
            "200/200 [==============================] - 3s 13ms/step - loss: 9.4911 - val_loss: 10.5286\n",
            "Epoch 199/200\n",
            "200/200 [==============================] - 3s 13ms/step - loss: 9.9821 - val_loss: 12.5661\n",
            "Epoch 200/200\n",
            "200/200 [==============================] - 3s 13ms/step - loss: 7.4863 - val_loss: 15.5789\n"
          ],
          "name": "stdout"
        },
        {
          "output_type": "execute_result",
          "data": {
            "text/plain": [
              "<tensorflow.python.keras.callbacks.History at 0x7feaf99599e8>"
            ]
          },
          "metadata": {
            "tags": []
          },
          "execution_count": 142
        }
      ]
    },
    {
      "cell_type": "code",
      "metadata": {
        "id": "wQX3VXAxZVcG",
        "colab_type": "code",
        "colab": {}
      },
      "source": [
        "y_pred = simple_lstm_model.predict(np.array(X_train1[:,:6,:]))"
      ],
      "execution_count": 0,
      "outputs": []
    },
    {
      "cell_type": "code",
      "metadata": {
        "id": "oPUzrVds7Pd1",
        "colab_type": "code",
        "colab": {
          "base_uri": "https://localhost:8080/",
          "height": 34
        },
        "outputId": "4fec3339-4f49-475a-a870-6e652e2a0500"
      },
      "source": [
        "y_pred.shape"
      ],
      "execution_count": 160,
      "outputs": [
        {
          "output_type": "execute_result",
          "data": {
            "text/plain": [
              "(10000, 1)"
            ]
          },
          "metadata": {
            "tags": []
          },
          "execution_count": 160
        }
      ]
    },
    {
      "cell_type": "code",
      "metadata": {
        "id": "tp0CkEhGkSP_",
        "colab_type": "code",
        "colab": {
          "base_uri": "https://localhost:8080/",
          "height": 34
        },
        "outputId": "7c3aa2d1-e88a-4c5f-eb21-39ae6c4921f0"
      },
      "source": [
        "np.sqrt(mean_squared_error(y_pred, Y_train1))"
      ],
      "execution_count": 162,
      "outputs": [
        {
          "output_type": "execute_result",
          "data": {
            "text/plain": [
              "18.047847571498416"
            ]
          },
          "metadata": {
            "tags": []
          },
          "execution_count": 162
        }
      ]
    },
    {
      "cell_type": "code",
      "metadata": {
        "id": "xgFJrGqnEehh",
        "colab_type": "code",
        "colab": {
          "base_uri": "https://localhost:8080/",
          "height": 34
        },
        "outputId": "46115983-fd00-40fc-b6f4-d4bb759ea942"
      },
      "source": [
        "data_train_1.shape"
      ],
      "execution_count": 168,
      "outputs": [
        {
          "output_type": "execute_result",
          "data": {
            "text/plain": [
              "(10714, 8)"
            ]
          },
          "metadata": {
            "tags": []
          },
          "execution_count": 168
        }
      ]
    },
    {
      "cell_type": "code",
      "metadata": {
        "id": "kp4zeKuYreoc",
        "colab_type": "code",
        "colab": {}
      },
      "source": [
        "y_pred1 = simple_lstm_model.predict(np.array(np.reshape(data_train_1[:,2:], (10714,6,1))))"
      ],
      "execution_count": 0,
      "outputs": []
    },
    {
      "cell_type": "code",
      "metadata": {
        "id": "o6Sch3AQbTyh",
        "colab_type": "code",
        "colab": {
          "base_uri": "https://localhost:8080/",
          "height": 357
        },
        "outputId": "70866843-9494-4516-b1fa-b65b576ff265"
      },
      "source": [
        "y_pred1[:20]"
      ],
      "execution_count": 171,
      "outputs": [
        {
          "output_type": "execute_result",
          "data": {
            "text/plain": [
              "array([[1428.6642 ],\n",
              "       [ 735.49207],\n",
              "       [1428.6626 ],\n",
              "       [1428.6616 ],\n",
              "       [1428.6545 ],\n",
              "       [1428.6521 ],\n",
              "       [1328.4786 ],\n",
              "       [ 867.361  ],\n",
              "       [1280.5012 ],\n",
              "       [1035.2844 ],\n",
              "       [1428.6149 ],\n",
              "       [ 867.1195 ],\n",
              "       [1428.6602 ],\n",
              "       [ 611.83496],\n",
              "       [1428.6453 ],\n",
              "       [1035.953  ],\n",
              "       [ 886.3091 ],\n",
              "       [ 834.9343 ],\n",
              "       [ 836.9475 ],\n",
              "       [ 971.86053]], dtype=float32)"
            ]
          },
          "metadata": {
            "tags": []
          },
          "execution_count": 171
        }
      ]
    },
    {
      "cell_type": "code",
      "metadata": {
        "id": "4By07juTFcbB",
        "colab_type": "code",
        "colab": {}
      },
      "source": [
        "data_train=pd.read_excel(path+'Train_dataset.xlsx',header=0,names=np.arange(28))\n",
        "people_id = data_train[0]\n",
        "data_train=data_train.drop(labels=[0,1,3,4],axis='columns')\n",
        "data_train.columns=np.arange(24)"
      ],
      "execution_count": 0,
      "outputs": []
    },
    {
      "cell_type": "code",
      "metadata": {
        "id": "FVugVzHLF-uO",
        "colab_type": "code",
        "colab": {
          "base_uri": "https://localhost:8080/",
          "height": 255
        },
        "outputId": "0546ca00-8e85-4207-f216-a16792bbd3e6"
      },
      "source": [
        "data_train.head(5)"
      ],
      "execution_count": 186,
      "outputs": [
        {
          "output_type": "execute_result",
          "data": {
            "text/html": [
              "<div>\n",
              "<style scoped>\n",
              "    .dataframe tbody tr th:only-of-type {\n",
              "        vertical-align: middle;\n",
              "    }\n",
              "\n",
              "    .dataframe tbody tr th {\n",
              "        vertical-align: top;\n",
              "    }\n",
              "\n",
              "    .dataframe thead th {\n",
              "        text-align: right;\n",
              "    }\n",
              "</style>\n",
              "<table border=\"1\" class=\"dataframe\">\n",
              "  <thead>\n",
              "    <tr style=\"text-align: right;\">\n",
              "      <th></th>\n",
              "      <th>0</th>\n",
              "      <th>1</th>\n",
              "      <th>2</th>\n",
              "      <th>3</th>\n",
              "      <th>4</th>\n",
              "      <th>5</th>\n",
              "      <th>6</th>\n",
              "      <th>7</th>\n",
              "      <th>8</th>\n",
              "      <th>9</th>\n",
              "      <th>10</th>\n",
              "      <th>11</th>\n",
              "      <th>12</th>\n",
              "      <th>13</th>\n",
              "      <th>14</th>\n",
              "      <th>15</th>\n",
              "      <th>16</th>\n",
              "      <th>17</th>\n",
              "      <th>18</th>\n",
              "      <th>19</th>\n",
              "      <th>20</th>\n",
              "      <th>21</th>\n",
              "      <th>22</th>\n",
              "      <th>23</th>\n",
              "    </tr>\n",
              "  </thead>\n",
              "  <tbody>\n",
              "    <tr>\n",
              "      <th>0</th>\n",
              "      <td>Female</td>\n",
              "      <td>YES</td>\n",
              "      <td>1.0</td>\n",
              "      <td>Farmer</td>\n",
              "      <td>Public</td>\n",
              "      <td>2</td>\n",
              "      <td>0</td>\n",
              "      <td>Hypertension</td>\n",
              "      <td>68</td>\n",
              "      <td>8</td>\n",
              "      <td>&lt;400</td>\n",
              "      <td>Normal</td>\n",
              "      <td>441.0</td>\n",
              "      <td>154.0</td>\n",
              "      <td>93.0</td>\n",
              "      <td>233.0</td>\n",
              "      <td>82.0</td>\n",
              "      <td>58.0</td>\n",
              "      <td>27</td>\n",
              "      <td>7</td>\n",
              "      <td>3600000.0</td>\n",
              "      <td>1300000</td>\n",
              "      <td>2.0</td>\n",
              "      <td>49.135010</td>\n",
              "    </tr>\n",
              "    <tr>\n",
              "      <th>1</th>\n",
              "      <td>Female</td>\n",
              "      <td>YES</td>\n",
              "      <td>2.0</td>\n",
              "      <td>Farmer</td>\n",
              "      <td>Walk</td>\n",
              "      <td>2</td>\n",
              "      <td>0</td>\n",
              "      <td>Diabetes</td>\n",
              "      <td>64</td>\n",
              "      <td>15</td>\n",
              "      <td>&lt;100</td>\n",
              "      <td>Stage-02</td>\n",
              "      <td>NaN</td>\n",
              "      <td>121.0</td>\n",
              "      <td>56.0</td>\n",
              "      <td>328.0</td>\n",
              "      <td>89.0</td>\n",
              "      <td>68.0</td>\n",
              "      <td>5</td>\n",
              "      <td>6</td>\n",
              "      <td>1600000.0</td>\n",
              "      <td>400000</td>\n",
              "      <td>1.0</td>\n",
              "      <td>51.147880</td>\n",
              "    </tr>\n",
              "    <tr>\n",
              "      <th>2</th>\n",
              "      <td>Female</td>\n",
              "      <td>NO</td>\n",
              "      <td>1.0</td>\n",
              "      <td>Cleaner</td>\n",
              "      <td>Public</td>\n",
              "      <td>2</td>\n",
              "      <td>0</td>\n",
              "      <td>None</td>\n",
              "      <td>19</td>\n",
              "      <td>13</td>\n",
              "      <td>&lt;300</td>\n",
              "      <td>Elevated</td>\n",
              "      <td>416.0</td>\n",
              "      <td>124.0</td>\n",
              "      <td>137.0</td>\n",
              "      <td>213.0</td>\n",
              "      <td>77.0</td>\n",
              "      <td>43.0</td>\n",
              "      <td>40</td>\n",
              "      <td>6</td>\n",
              "      <td>3400000.0</td>\n",
              "      <td>900000</td>\n",
              "      <td>1.0</td>\n",
              "      <td>73.224000</td>\n",
              "    </tr>\n",
              "    <tr>\n",
              "      <th>3</th>\n",
              "      <td>Female</td>\n",
              "      <td>YES</td>\n",
              "      <td>1.0</td>\n",
              "      <td>Driver</td>\n",
              "      <td>Car</td>\n",
              "      <td>2</td>\n",
              "      <td>0</td>\n",
              "      <td>Coronary Heart Disease</td>\n",
              "      <td>33</td>\n",
              "      <td>9</td>\n",
              "      <td>&lt;200</td>\n",
              "      <td>Stage-01</td>\n",
              "      <td>410.0</td>\n",
              "      <td>98.0</td>\n",
              "      <td>167.0</td>\n",
              "      <td>275.0</td>\n",
              "      <td>64.0</td>\n",
              "      <td>60.0</td>\n",
              "      <td>27</td>\n",
              "      <td>7</td>\n",
              "      <td>700000.0</td>\n",
              "      <td>2300000</td>\n",
              "      <td>1.0</td>\n",
              "      <td>48.779225</td>\n",
              "    </tr>\n",
              "    <tr>\n",
              "      <th>4</th>\n",
              "      <td>Female</td>\n",
              "      <td>NO</td>\n",
              "      <td>2.0</td>\n",
              "      <td>Manufacturing</td>\n",
              "      <td>Car</td>\n",
              "      <td>2</td>\n",
              "      <td>0</td>\n",
              "      <td>Diabetes</td>\n",
              "      <td>23</td>\n",
              "      <td>7</td>\n",
              "      <td>&lt;400</td>\n",
              "      <td>Normal</td>\n",
              "      <td>390.0</td>\n",
              "      <td>21.0</td>\n",
              "      <td>153.0</td>\n",
              "      <td>331.0</td>\n",
              "      <td>71.0</td>\n",
              "      <td>64.0</td>\n",
              "      <td>32</td>\n",
              "      <td>7</td>\n",
              "      <td>3200000.0</td>\n",
              "      <td>1100000</td>\n",
              "      <td>1.0</td>\n",
              "      <td>87.868800</td>\n",
              "    </tr>\n",
              "  </tbody>\n",
              "</table>\n",
              "</div>"
            ],
            "text/plain": [
              "       0    1    2              3   ...         20       21   22         23\n",
              "0  Female  YES  1.0         Farmer  ...  3600000.0  1300000  2.0  49.135010\n",
              "1  Female  YES  2.0         Farmer  ...  1600000.0   400000  1.0  51.147880\n",
              "2  Female   NO  1.0        Cleaner  ...  3400000.0   900000  1.0  73.224000\n",
              "3  Female  YES  1.0         Driver  ...   700000.0  2300000  1.0  48.779225\n",
              "4  Female   NO  2.0  Manufacturing  ...  3200000.0  1100000  1.0  87.868800\n",
              "\n",
              "[5 rows x 24 columns]"
            ]
          },
          "metadata": {
            "tags": []
          },
          "execution_count": 186
        }
      ]
    },
    {
      "cell_type": "code",
      "metadata": {
        "id": "QCFdwHymHYO4",
        "colab_type": "code",
        "colab": {
          "base_uri": "https://localhost:8080/",
          "height": 221
        },
        "outputId": "0f6735ef-991b-4de2-c219-a77e588ee3d3"
      },
      "source": [
        "people_id"
      ],
      "execution_count": 189,
      "outputs": [
        {
          "output_type": "execute_result",
          "data": {
            "text/plain": [
              "0            1\n",
              "1            2\n",
              "2            3\n",
              "3            4\n",
              "4            5\n",
              "         ...  \n",
              "10709    22691\n",
              "10710    22692\n",
              "10711    22693\n",
              "10712    22694\n",
              "10713    22695\n",
              "Name: 0, Length: 10714, dtype: int64"
            ]
          },
          "metadata": {
            "tags": []
          },
          "execution_count": 189
        }
      ]
    },
    {
      "cell_type": "code",
      "metadata": {
        "id": "blJjQZe5FmSf",
        "colab_type": "code",
        "colab": {}
      },
      "source": [
        "data_train[12]=y_pred1"
      ],
      "execution_count": 0,
      "outputs": []
    },
    {
      "cell_type": "code",
      "metadata": {
        "id": "MkUoCKkEG8Kx",
        "colab_type": "code",
        "colab": {
          "base_uri": "https://localhost:8080/",
          "height": 275
        },
        "outputId": "8777e1e6-e5a3-4a1e-8c6c-450091ba3b1f"
      },
      "source": [
        "data_train.head(5)"
      ],
      "execution_count": 188,
      "outputs": [
        {
          "output_type": "execute_result",
          "data": {
            "text/html": [
              "<div>\n",
              "<style scoped>\n",
              "    .dataframe tbody tr th:only-of-type {\n",
              "        vertical-align: middle;\n",
              "    }\n",
              "\n",
              "    .dataframe tbody tr th {\n",
              "        vertical-align: top;\n",
              "    }\n",
              "\n",
              "    .dataframe thead th {\n",
              "        text-align: right;\n",
              "    }\n",
              "</style>\n",
              "<table border=\"1\" class=\"dataframe\">\n",
              "  <thead>\n",
              "    <tr style=\"text-align: right;\">\n",
              "      <th></th>\n",
              "      <th>0</th>\n",
              "      <th>1</th>\n",
              "      <th>2</th>\n",
              "      <th>3</th>\n",
              "      <th>4</th>\n",
              "      <th>5</th>\n",
              "      <th>6</th>\n",
              "      <th>7</th>\n",
              "      <th>8</th>\n",
              "      <th>9</th>\n",
              "      <th>10</th>\n",
              "      <th>11</th>\n",
              "      <th>12</th>\n",
              "      <th>13</th>\n",
              "      <th>14</th>\n",
              "      <th>15</th>\n",
              "      <th>16</th>\n",
              "      <th>17</th>\n",
              "      <th>18</th>\n",
              "      <th>19</th>\n",
              "      <th>20</th>\n",
              "      <th>21</th>\n",
              "      <th>22</th>\n",
              "      <th>23</th>\n",
              "    </tr>\n",
              "  </thead>\n",
              "  <tbody>\n",
              "    <tr>\n",
              "      <th>0</th>\n",
              "      <td>Female</td>\n",
              "      <td>YES</td>\n",
              "      <td>1.0</td>\n",
              "      <td>Farmer</td>\n",
              "      <td>Public</td>\n",
              "      <td>2</td>\n",
              "      <td>0</td>\n",
              "      <td>Hypertension</td>\n",
              "      <td>68</td>\n",
              "      <td>8</td>\n",
              "      <td>&lt;400</td>\n",
              "      <td>Normal</td>\n",
              "      <td>1428.664185</td>\n",
              "      <td>154.0</td>\n",
              "      <td>93.0</td>\n",
              "      <td>233.0</td>\n",
              "      <td>82.0</td>\n",
              "      <td>58.0</td>\n",
              "      <td>27</td>\n",
              "      <td>7</td>\n",
              "      <td>3600000.0</td>\n",
              "      <td>1300000</td>\n",
              "      <td>2.0</td>\n",
              "      <td>49.135010</td>\n",
              "    </tr>\n",
              "    <tr>\n",
              "      <th>1</th>\n",
              "      <td>Female</td>\n",
              "      <td>YES</td>\n",
              "      <td>2.0</td>\n",
              "      <td>Farmer</td>\n",
              "      <td>Walk</td>\n",
              "      <td>2</td>\n",
              "      <td>0</td>\n",
              "      <td>Diabetes</td>\n",
              "      <td>64</td>\n",
              "      <td>15</td>\n",
              "      <td>&lt;100</td>\n",
              "      <td>Stage-02</td>\n",
              "      <td>735.492065</td>\n",
              "      <td>121.0</td>\n",
              "      <td>56.0</td>\n",
              "      <td>328.0</td>\n",
              "      <td>89.0</td>\n",
              "      <td>68.0</td>\n",
              "      <td>5</td>\n",
              "      <td>6</td>\n",
              "      <td>1600000.0</td>\n",
              "      <td>400000</td>\n",
              "      <td>1.0</td>\n",
              "      <td>51.147880</td>\n",
              "    </tr>\n",
              "    <tr>\n",
              "      <th>2</th>\n",
              "      <td>Female</td>\n",
              "      <td>NO</td>\n",
              "      <td>1.0</td>\n",
              "      <td>Cleaner</td>\n",
              "      <td>Public</td>\n",
              "      <td>2</td>\n",
              "      <td>0</td>\n",
              "      <td>None</td>\n",
              "      <td>19</td>\n",
              "      <td>13</td>\n",
              "      <td>&lt;300</td>\n",
              "      <td>Elevated</td>\n",
              "      <td>1428.662598</td>\n",
              "      <td>124.0</td>\n",
              "      <td>137.0</td>\n",
              "      <td>213.0</td>\n",
              "      <td>77.0</td>\n",
              "      <td>43.0</td>\n",
              "      <td>40</td>\n",
              "      <td>6</td>\n",
              "      <td>3400000.0</td>\n",
              "      <td>900000</td>\n",
              "      <td>1.0</td>\n",
              "      <td>73.224000</td>\n",
              "    </tr>\n",
              "    <tr>\n",
              "      <th>3</th>\n",
              "      <td>Female</td>\n",
              "      <td>YES</td>\n",
              "      <td>1.0</td>\n",
              "      <td>Driver</td>\n",
              "      <td>Car</td>\n",
              "      <td>2</td>\n",
              "      <td>0</td>\n",
              "      <td>Coronary Heart Disease</td>\n",
              "      <td>33</td>\n",
              "      <td>9</td>\n",
              "      <td>&lt;200</td>\n",
              "      <td>Stage-01</td>\n",
              "      <td>1428.661621</td>\n",
              "      <td>98.0</td>\n",
              "      <td>167.0</td>\n",
              "      <td>275.0</td>\n",
              "      <td>64.0</td>\n",
              "      <td>60.0</td>\n",
              "      <td>27</td>\n",
              "      <td>7</td>\n",
              "      <td>700000.0</td>\n",
              "      <td>2300000</td>\n",
              "      <td>1.0</td>\n",
              "      <td>48.779225</td>\n",
              "    </tr>\n",
              "    <tr>\n",
              "      <th>4</th>\n",
              "      <td>Female</td>\n",
              "      <td>NO</td>\n",
              "      <td>2.0</td>\n",
              "      <td>Manufacturing</td>\n",
              "      <td>Car</td>\n",
              "      <td>2</td>\n",
              "      <td>0</td>\n",
              "      <td>Diabetes</td>\n",
              "      <td>23</td>\n",
              "      <td>7</td>\n",
              "      <td>&lt;400</td>\n",
              "      <td>Normal</td>\n",
              "      <td>1428.654541</td>\n",
              "      <td>21.0</td>\n",
              "      <td>153.0</td>\n",
              "      <td>331.0</td>\n",
              "      <td>71.0</td>\n",
              "      <td>64.0</td>\n",
              "      <td>32</td>\n",
              "      <td>7</td>\n",
              "      <td>3200000.0</td>\n",
              "      <td>1100000</td>\n",
              "      <td>1.0</td>\n",
              "      <td>87.868800</td>\n",
              "    </tr>\n",
              "  </tbody>\n",
              "</table>\n",
              "</div>"
            ],
            "text/plain": [
              "       0    1    2              3   ...         20       21   22         23\n",
              "0  Female  YES  1.0         Farmer  ...  3600000.0  1300000  2.0  49.135010\n",
              "1  Female  YES  2.0         Farmer  ...  1600000.0   400000  1.0  51.147880\n",
              "2  Female   NO  1.0        Cleaner  ...  3400000.0   900000  1.0  73.224000\n",
              "3  Female  YES  1.0         Driver  ...   700000.0  2300000  1.0  48.779225\n",
              "4  Female   NO  2.0  Manufacturing  ...  3200000.0  1100000  1.0  87.868800\n",
              "\n",
              "[5 rows x 24 columns]"
            ]
          },
          "metadata": {
            "tags": []
          },
          "execution_count": 188
        }
      ]
    },
    {
      "cell_type": "code",
      "metadata": {
        "id": "3EwFlJ6mG-J8",
        "colab_type": "code",
        "colab": {}
      },
      "source": [
        "data_test=data_train.iloc[:,:-1].values"
      ],
      "execution_count": 0,
      "outputs": []
    },
    {
      "cell_type": "code",
      "metadata": {
        "id": "Td-oOVNyHf09",
        "colab_type": "code",
        "colab": {
          "base_uri": "https://localhost:8080/",
          "height": 306
        },
        "outputId": "f0c047f0-baa8-4178-952f-dd3a5661ab53"
      },
      "source": [
        "X_test = data_test\n",
        "X_test = pre_process(X_test)"
      ],
      "execution_count": 194,
      "outputs": [
        {
          "output_type": "stream",
          "text": [
            "(10714, 23)\n",
            "[['Female' 'YES' 1.0 'Farmer' 'Public' 2.0 0.0 'Hypertension' 68.0 8.0\n",
            "  '<400' 'Normal' 1428.6641845703125 154.0 93.0 233.0 82.0 58.0 27.0 7.0\n",
            "  3600000.0 1300000.0 2.0]\n",
            " ['Female' 'YES' 2.0 'Farmer' 'Walk' 2.0 0.0 'Diabetes' 64.0 15.0 '<100'\n",
            "  'Stage-02' 735.4920654296875 121.0 56.0 328.0 89.0 68.0 5.0 6.0\n",
            "  1600000.0 400000.0 1.0]\n",
            " ['Female' 'NO' 1.0 'Cleaner' 'Public' 2.0 0.0 'None' 19.0 13.0 '<300'\n",
            "  'Elevated' 1428.66259765625 124.0 137.0 213.0 77.0 43.0 40.0 6.0\n",
            "  3400000.0 900000.0 1.0]\n",
            " ['Female' 'YES' 1.0 'Driver' 'Car' 2.0 0.0 'Coronary Heart Disease' 33.0\n",
            "  9.0 '<200' 'Stage-01' 1428.66162109375 98.0 167.0 275.0 64.0 60.0 27.0\n",
            "  7.0 700000.0 2300000.0 1.0]\n",
            " ['Female' 'NO' 2.0 'Manufacturing' 'Car' 2.0 0.0 'Diabetes' 23.0 7.0\n",
            "  '<400' 'Normal' 1428.654541015625 21.0 153.0 331.0 71.0 64.0 32.0 7.0\n",
            "  3200000.0 1100000.0 1.0]]\n",
            "(10714, 44)\n"
          ],
          "name": "stdout"
        }
      ]
    },
    {
      "cell_type": "code",
      "metadata": {
        "id": "19QuyjffHqOm",
        "colab_type": "code",
        "colab": {}
      },
      "source": [
        "y_pred2 = model_final.predict(X_test)"
      ],
      "execution_count": 0,
      "outputs": []
    },
    {
      "cell_type": "code",
      "metadata": {
        "id": "nTMeUvKnH8wk",
        "colab_type": "code",
        "colab": {
          "base_uri": "https://localhost:8080/",
          "height": 34
        },
        "outputId": "fa4c0028-ff21-4fa3-a71b-be3edc4237cf"
      },
      "source": [
        "print(max(y_pred2),min(y_pred2))"
      ],
      "execution_count": 196,
      "outputs": [
        {
          "output_type": "stream",
          "text": [
            "89.55783359999987 38.27174400000004\n"
          ],
          "name": "stdout"
        }
      ]
    },
    {
      "cell_type": "code",
      "metadata": {
        "id": "bgBgjGtkIF52",
        "colab_type": "code",
        "colab": {}
      },
      "source": [
        "out_df1 = pd.DataFrame()\n",
        "out_df1['people_ID'] = people_id\n",
        "out_df1['infect_prob'] = y_pred2\n"
      ],
      "execution_count": 0,
      "outputs": []
    },
    {
      "cell_type": "code",
      "metadata": {
        "id": "xd_iniwBIZtq",
        "colab_type": "code",
        "colab": {
          "base_uri": "https://localhost:8080/",
          "height": 204
        },
        "outputId": "b7f7b170-8ceb-43c8-ff72-8ceadfac791b"
      },
      "source": [
        "out_df1.head(5)"
      ],
      "execution_count": 198,
      "outputs": [
        {
          "output_type": "execute_result",
          "data": {
            "text/html": [
              "<div>\n",
              "<style scoped>\n",
              "    .dataframe tbody tr th:only-of-type {\n",
              "        vertical-align: middle;\n",
              "    }\n",
              "\n",
              "    .dataframe tbody tr th {\n",
              "        vertical-align: top;\n",
              "    }\n",
              "\n",
              "    .dataframe thead th {\n",
              "        text-align: right;\n",
              "    }\n",
              "</style>\n",
              "<table border=\"1\" class=\"dataframe\">\n",
              "  <thead>\n",
              "    <tr style=\"text-align: right;\">\n",
              "      <th></th>\n",
              "      <th>people_ID</th>\n",
              "      <th>infect_prob</th>\n",
              "    </tr>\n",
              "  </thead>\n",
              "  <tbody>\n",
              "    <tr>\n",
              "      <th>0</th>\n",
              "      <td>1</td>\n",
              "      <td>49.074164</td>\n",
              "    </tr>\n",
              "    <tr>\n",
              "      <th>1</th>\n",
              "      <td>2</td>\n",
              "      <td>51.093959</td>\n",
              "    </tr>\n",
              "    <tr>\n",
              "      <th>2</th>\n",
              "      <td>3</td>\n",
              "      <td>69.738538</td>\n",
              "    </tr>\n",
              "    <tr>\n",
              "      <th>3</th>\n",
              "      <td>4</td>\n",
              "      <td>48.916100</td>\n",
              "    </tr>\n",
              "    <tr>\n",
              "      <th>4</th>\n",
              "      <td>5</td>\n",
              "      <td>79.814160</td>\n",
              "    </tr>\n",
              "  </tbody>\n",
              "</table>\n",
              "</div>"
            ],
            "text/plain": [
              "   people_ID  infect_prob\n",
              "0          1    49.074164\n",
              "1          2    51.093959\n",
              "2          3    69.738538\n",
              "3          4    48.916100\n",
              "4          5    79.814160"
            ]
          },
          "metadata": {
            "tags": []
          },
          "execution_count": 198
        }
      ]
    },
    {
      "cell_type": "code",
      "metadata": {
        "id": "CJO97BqMIRXf",
        "colab_type": "code",
        "colab": {}
      },
      "source": [
        "out_df1.to_csv(path+'infect_prob_27_mar_2020.csv')"
      ],
      "execution_count": 0,
      "outputs": []
    },
    {
      "cell_type": "code",
      "metadata": {
        "id": "ysTFrxiRIeI_",
        "colab_type": "code",
        "colab": {}
      },
      "source": [
        ""
      ],
      "execution_count": 0,
      "outputs": []
    }
  ]
}